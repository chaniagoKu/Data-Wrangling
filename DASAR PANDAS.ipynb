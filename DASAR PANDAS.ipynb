{
 "cells": [
  {
   "cell_type": "code",
   "execution_count": 2,
   "id": "70c82859",
   "metadata": {},
   "outputs": [],
   "source": [
    "import pandas as pd"
   ]
  },
  {
   "cell_type": "code",
   "execution_count": 3,
   "id": "e02b6cf5",
   "metadata": {},
   "outputs": [
    {
     "name": "stdout",
     "output_type": "stream",
     "text": [
      "    Nama  Matematika  IPA\n",
      "0   Irma          80   90\n",
      "1   Faiz          90   70\n",
      "2  Firda          80   80\n"
     ]
    }
   ],
   "source": [
    "nama=pd.Series(['Irma','Faiz','Firda'])\n",
    "matematika=pd.Series([80,90,80])\n",
    "ipa=pd.Series([90,70,80])\n",
    "df=pd.DataFrame({'Nama':nama,'Matematika':matematika,'IPA':ipa})\n",
    "print(df)"
   ]
  },
  {
   "cell_type": "code",
   "execution_count": 4,
   "id": "640aa4c2",
   "metadata": {},
   "outputs": [
    {
     "name": "stdout",
     "output_type": "stream",
     "text": [
      "    Nama  Matematika  IPA  Rata Nilai\n",
      "0   Irma          80   90        85.0\n",
      "1   Faiz          90   70        80.0\n",
      "2  Firda          80   80        80.0\n"
     ]
    }
   ],
   "source": [
    "df['Rata Nilai']=df.mean(axis=1)\n",
    "print(df)"
   ]
  },
  {
   "cell_type": "code",
   "execution_count": 5,
   "id": "579594e4",
   "metadata": {},
   "outputs": [
    {
     "name": "stdout",
     "output_type": "stream",
     "text": [
      "0    80\n",
      "1    90\n",
      "2    80\n",
      "Name: Matematika, dtype: int64\n"
     ]
    }
   ],
   "source": [
    "Math=df.Matematika\n",
    "print(Math)"
   ]
  },
  {
   "cell_type": "code",
   "execution_count": 6,
   "id": "7ebcdde2",
   "metadata": {},
   "outputs": [
    {
     "name": "stdout",
     "output_type": "stream",
     "text": [
      "    Nama  Matematika  IPA  Rata Nilai\n",
      "0   Imra          80   90        85.0\n",
      "1   Faiz          90   70        80.0\n",
      "2  Firda          80   80        80.0\n"
     ]
    }
   ],
   "source": [
    "df=df.replace('Irma','Imra')\n",
    "print(df)"
   ]
  },
  {
   "cell_type": "code",
   "execution_count": 8,
   "id": "0413480e",
   "metadata": {},
   "outputs": [
    {
     "name": "stdout",
     "output_type": "stream",
     "text": [
      "    Nama  Matematika  IPA  Rata Nilai\n",
      "0   Imra          70   70        85.0\n",
      "1   Faiz          70   70        70.0\n",
      "2  Firda          70   70        70.0\n"
     ]
    }
   ],
   "source": [
    "df=df.replace({80:90,90:70})\n",
    "print(df)"
   ]
  },
  {
   "cell_type": "code",
   "execution_count": null,
   "id": "e4278f2a",
   "metadata": {},
   "outputs": [],
   "source": []
  },
  {
   "cell_type": "code",
   "execution_count": null,
   "id": "cffea8e2",
   "metadata": {},
   "outputs": [],
   "source": []
  }
 ],
 "metadata": {
  "kernelspec": {
   "display_name": "Python 3 (ipykernel)",
   "language": "python",
   "name": "python3"
  },
  "language_info": {
   "codemirror_mode": {
    "name": "ipython",
    "version": 3
   },
   "file_extension": ".py",
   "mimetype": "text/x-python",
   "name": "python",
   "nbconvert_exporter": "python",
   "pygments_lexer": "ipython3",
   "version": "3.8.8"
  }
 },
 "nbformat": 4,
 "nbformat_minor": 5
}
