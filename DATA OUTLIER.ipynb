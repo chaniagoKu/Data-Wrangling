{
 "cells": [
  {
   "cell_type": "raw",
   "id": "e74d96fd",
   "metadata": {},
   "source": [
    "Outlier/anomali adalah sehimpunan data yang dianggap memiliki sifat yang berbeda dibandingkan dengan kebanyakan data lainnya.\n",
    "\n",
    "Analisis outlier dikenal juga dengan analisis anomali/deteksi anomali\n",
    "Anomali (kelainan)\n",
    "\n",
    "Manfaat analisis outlier :\n",
    "1. Segmentasi data (pengelompoan data/varian data (+kerapatan tinggi/tidak))\n",
    "2. Deteksi penyalahgunaan data \n",
    "3. Perbaikan data\n",
    "4. Deteksi data yang mencurigakan == poin 2\n",
    "\n",
    "Penyebab adanya outlier :\n",
    "1. Data berasal dari kelas yang berbeda\n",
    "2. Variasi natural data itu sendiri (poin penting == varian /kerapatan data(jarak))\n",
    "3. Error pada saat pengukuran atau pengumpulan data\n",
    "\n",
    "Skema analisis outlier :\n",
    "1. Bangun profil dari data \"normal\", bisa berupa pola atau deskripsi statistik dari populasi data secara keseluruhan\n",
    "2. Gunakan profil tersebut dengan mendeteksi anomali\n",
    "\n",
    "Pendekatan analisis outlier :\n",
    "1. Pendekatan grafis\n",
    "2. Model based (pendekatan statistik)\n",
    "3. Distance based (berdasarkan jarak) -> dipresentasikan dalam bentuk vektor\n",
    "   Contoh : nearest neighbor based, density based, clustering based\n",
    "4. Deviation based\n",
    "\n",
    "Pendekatan grafis :\n",
    "Misalkan dengan menggunakan box plot (1D), scatter plot (2D), spin plot (3D)\n",
    "\n",
    "Kekurangan pendekatan grafis :\n",
    "1. Memerlukan waktu yang sangat banyak \n",
    "2. Sangat subjektif dalam penentuan outlier \n",
    "\n",
    "Pendekatan statistik :\n",
    "1. Distribusi data (mis : distribusi normal, distribusi poison, distribusi gamma, dsb)\n",
    "2. Gunakan uji statistik yang bergantung pada :\n",
    "   2.1 Distribusi data\n",
    "   2.2 Parameter distribusi (mis : mean, median, variance)\n",
    "   2.3 Jumlah outlier yang dapat diterima (selang kepercayaan)\n",
    " \n",
    "Kelebihan dan kekurangan pendekatan statistik :\n",
    "1. Pengetahuan data cukup (jenis dan uji distribusi data yang diperlukan)\n",
    "2. Sulit menemukan fungsi distribusi dan jenis uji ayng tepat untuk data\n",
    "3. Kebanyakan data hanya cocok untuk single attribute\n",
    "4. Sulit untuk menentukan fungsi distribusi dan uji yang tepat untuk data berdimensi tinggi\n",
    "\n",
    "Nearest neighbor based :\n",
    "1. Ditentukan oleh jarak dari tiap pasang titik data\n",
    "2. Titik dikatakan outlier jika (salah satu) :\n",
    "   2.1 Banyak titik tetangga disekitarnya lebih sedikit dari p dalam jarak d\n",
    "   2.2 Titik == top n (jaraknya paling jauh dari k tetangga terdekatnya)\n",
    "   2.3 Titik == top n (rata-rata jarak)\n",
    "   \n",
    "Pengukuran complexcity :\n",
    "O(m^2)  work cased - back cased"
   ]
  },
  {
   "cell_type": "code",
   "execution_count": 1,
   "id": "99664776",
   "metadata": {},
   "outputs": [],
   "source": [
    "import pandas as pd\n",
    "import numpy as np"
   ]
  },
  {
   "cell_type": "code",
   "execution_count": 2,
   "id": "c9cd735f",
   "metadata": {},
   "outputs": [
    {
     "data": {
      "text/html": [
       "<div>\n",
       "<style scoped>\n",
       "    .dataframe tbody tr th:only-of-type {\n",
       "        vertical-align: middle;\n",
       "    }\n",
       "\n",
       "    .dataframe tbody tr th {\n",
       "        vertical-align: top;\n",
       "    }\n",
       "\n",
       "    .dataframe thead th {\n",
       "        text-align: right;\n",
       "    }\n",
       "</style>\n",
       "<table border=\"1\" class=\"dataframe\">\n",
       "  <thead>\n",
       "    <tr style=\"text-align: right;\">\n",
       "      <th></th>\n",
       "      <th>0</th>\n",
       "      <th>1</th>\n",
       "      <th>2</th>\n",
       "      <th>3</th>\n",
       "      <th>4</th>\n",
       "      <th>5</th>\n",
       "      <th>6</th>\n",
       "      <th>7</th>\n",
       "      <th>8</th>\n",
       "      <th>9</th>\n",
       "    </tr>\n",
       "  </thead>\n",
       "  <tbody>\n",
       "    <tr>\n",
       "      <th>0</th>\n",
       "      <td>-0.172513</td>\n",
       "      <td>-1.409754</td>\n",
       "      <td>-0.610637</td>\n",
       "      <td>-0.231383</td>\n",
       "      <td>0.137118</td>\n",
       "      <td>-1.797808</td>\n",
       "      <td>-1.292005</td>\n",
       "      <td>-1.406954</td>\n",
       "      <td>-1.170786</td>\n",
       "      <td>-0.626158</td>\n",
       "    </tr>\n",
       "    <tr>\n",
       "      <th>1</th>\n",
       "      <td>-0.938579</td>\n",
       "      <td>0.041484</td>\n",
       "      <td>0.177918</td>\n",
       "      <td>-0.828117</td>\n",
       "      <td>-0.204558</td>\n",
       "      <td>0.657189</td>\n",
       "      <td>-0.203256</td>\n",
       "      <td>0.048941</td>\n",
       "      <td>-0.627473</td>\n",
       "      <td>-0.650583</td>\n",
       "    </tr>\n",
       "    <tr>\n",
       "      <th>2</th>\n",
       "      <td>-0.003109</td>\n",
       "      <td>-0.737100</td>\n",
       "      <td>-1.031078</td>\n",
       "      <td>0.467152</td>\n",
       "      <td>0.405619</td>\n",
       "      <td>0.295963</td>\n",
       "      <td>-0.517517</td>\n",
       "      <td>-0.179839</td>\n",
       "      <td>0.823166</td>\n",
       "      <td>-0.412507</td>\n",
       "    </tr>\n",
       "    <tr>\n",
       "      <th>3</th>\n",
       "      <td>0.160395</td>\n",
       "      <td>-0.359406</td>\n",
       "      <td>0.528929</td>\n",
       "      <td>-0.912746</td>\n",
       "      <td>0.039696</td>\n",
       "      <td>0.369259</td>\n",
       "      <td>-1.784815</td>\n",
       "      <td>0.531751</td>\n",
       "      <td>1.341041</td>\n",
       "      <td>0.741302</td>\n",
       "    </tr>\n",
       "    <tr>\n",
       "      <th>4</th>\n",
       "      <td>1.468510</td>\n",
       "      <td>-0.399323</td>\n",
       "      <td>-0.278250</td>\n",
       "      <td>-1.318075</td>\n",
       "      <td>0.987815</td>\n",
       "      <td>-1.842075</td>\n",
       "      <td>-1.023163</td>\n",
       "      <td>1.016291</td>\n",
       "      <td>-0.908856</td>\n",
       "      <td>0.263308</td>\n",
       "    </tr>\n",
       "    <tr>\n",
       "      <th>...</th>\n",
       "      <td>...</td>\n",
       "      <td>...</td>\n",
       "      <td>...</td>\n",
       "      <td>...</td>\n",
       "      <td>...</td>\n",
       "      <td>...</td>\n",
       "      <td>...</td>\n",
       "      <td>...</td>\n",
       "      <td>...</td>\n",
       "      <td>...</td>\n",
       "    </tr>\n",
       "    <tr>\n",
       "      <th>995</th>\n",
       "      <td>1.828595</td>\n",
       "      <td>-1.647227</td>\n",
       "      <td>0.264045</td>\n",
       "      <td>1.998222</td>\n",
       "      <td>0.277198</td>\n",
       "      <td>0.477746</td>\n",
       "      <td>-0.568825</td>\n",
       "      <td>-0.824447</td>\n",
       "      <td>0.224810</td>\n",
       "      <td>0.635290</td>\n",
       "    </tr>\n",
       "    <tr>\n",
       "      <th>996</th>\n",
       "      <td>0.997136</td>\n",
       "      <td>-1.407679</td>\n",
       "      <td>0.647512</td>\n",
       "      <td>0.501994</td>\n",
       "      <td>0.769203</td>\n",
       "      <td>1.420544</td>\n",
       "      <td>-0.127746</td>\n",
       "      <td>0.675262</td>\n",
       "      <td>0.144288</td>\n",
       "      <td>-0.958916</td>\n",
       "    </tr>\n",
       "    <tr>\n",
       "      <th>997</th>\n",
       "      <td>0.609993</td>\n",
       "      <td>-1.112827</td>\n",
       "      <td>0.010336</td>\n",
       "      <td>-0.498692</td>\n",
       "      <td>-0.925386</td>\n",
       "      <td>0.562771</td>\n",
       "      <td>1.245281</td>\n",
       "      <td>0.859027</td>\n",
       "      <td>-0.762656</td>\n",
       "      <td>-0.957948</td>\n",
       "    </tr>\n",
       "    <tr>\n",
       "      <th>998</th>\n",
       "      <td>-0.192352</td>\n",
       "      <td>1.271266</td>\n",
       "      <td>0.772018</td>\n",
       "      <td>0.480827</td>\n",
       "      <td>0.215832</td>\n",
       "      <td>1.230405</td>\n",
       "      <td>0.636953</td>\n",
       "      <td>0.171486</td>\n",
       "      <td>-2.133790</td>\n",
       "      <td>-0.666286</td>\n",
       "    </tr>\n",
       "    <tr>\n",
       "      <th>999</th>\n",
       "      <td>0.166352</td>\n",
       "      <td>-0.270867</td>\n",
       "      <td>1.353347</td>\n",
       "      <td>-0.327224</td>\n",
       "      <td>0.276920</td>\n",
       "      <td>-0.315495</td>\n",
       "      <td>1.398618</td>\n",
       "      <td>0.860547</td>\n",
       "      <td>-0.025719</td>\n",
       "      <td>-2.535010</td>\n",
       "    </tr>\n",
       "  </tbody>\n",
       "</table>\n",
       "<p>1000 rows × 10 columns</p>\n",
       "</div>"
      ],
      "text/plain": [
       "            0         1         2         3         4         5         6  \\\n",
       "0   -0.172513 -1.409754 -0.610637 -0.231383  0.137118 -1.797808 -1.292005   \n",
       "1   -0.938579  0.041484  0.177918 -0.828117 -0.204558  0.657189 -0.203256   \n",
       "2   -0.003109 -0.737100 -1.031078  0.467152  0.405619  0.295963 -0.517517   \n",
       "3    0.160395 -0.359406  0.528929 -0.912746  0.039696  0.369259 -1.784815   \n",
       "4    1.468510 -0.399323 -0.278250 -1.318075  0.987815 -1.842075 -1.023163   \n",
       "..        ...       ...       ...       ...       ...       ...       ...   \n",
       "995  1.828595 -1.647227  0.264045  1.998222  0.277198  0.477746 -0.568825   \n",
       "996  0.997136 -1.407679  0.647512  0.501994  0.769203  1.420544 -0.127746   \n",
       "997  0.609993 -1.112827  0.010336 -0.498692 -0.925386  0.562771  1.245281   \n",
       "998 -0.192352  1.271266  0.772018  0.480827  0.215832  1.230405  0.636953   \n",
       "999  0.166352 -0.270867  1.353347 -0.327224  0.276920 -0.315495  1.398618   \n",
       "\n",
       "            7         8         9  \n",
       "0   -1.406954 -1.170786 -0.626158  \n",
       "1    0.048941 -0.627473 -0.650583  \n",
       "2   -0.179839  0.823166 -0.412507  \n",
       "3    0.531751  1.341041  0.741302  \n",
       "4    1.016291 -0.908856  0.263308  \n",
       "..        ...       ...       ...  \n",
       "995 -0.824447  0.224810  0.635290  \n",
       "996  0.675262  0.144288 -0.958916  \n",
       "997  0.859027 -0.762656 -0.957948  \n",
       "998  0.171486 -2.133790 -0.666286  \n",
       "999  0.860547 -0.025719 -2.535010  \n",
       "\n",
       "[1000 rows x 10 columns]"
      ]
     },
     "execution_count": 2,
     "metadata": {},
     "output_type": "execute_result"
    }
   ],
   "source": [
    "df = pd.DataFrame(np.random.randn(1000,10))\n",
    "df"
   ]
  },
  {
   "cell_type": "code",
   "execution_count": 3,
   "id": "71774683",
   "metadata": {},
   "outputs": [
    {
     "data": {
      "image/png": "[encoded data removed]",
      "text/plain": [
       "<Figure size 402.375x360 with 1 Axes>"
      ]
     },
     "metadata": {
      "needs_background": "light"
     },
     "output_type": "display_data"
    }
   ],
   "source": [
    "import seaborn as sns\n",
    "import matplotlib.pyplot as plt\n",
    "sns.displot(df)\n",
    "plt.show()"
   ]
  },
  {
   "cell_type": "code",
   "execution_count": 5,
   "id": "c1f8b926",
   "metadata": {},
   "outputs": [
    {
     "data": {
      "text/plain": [
       "<AxesSubplot:xlabel='1'>"
      ]
     },
     "execution_count": 5,
     "metadata": {},
     "output_type": "execute_result"
    },
    {
     "data": {
      "image/png": "[encoded data removed]",
      "text/plain": [
       "<Figure size 432x288 with 1 Axes>"
      ]
     },
     "metadata": {
      "needs_background": "light"
     },
     "output_type": "display_data"
    }
   ],
   "source": [
    "#--------------\n",
    "sns.boxplot(x=df[1])"
   ]
  },
  {
   "cell_type": "code",
   "execution_count": null,
   "id": "37a4d0fa",
   "metadata": {},
   "outputs": [],
   "source": [
    "df.describe()"
   ]
  },
  {
   "cell_type": "code",
   "execution_count": null,
   "id": "ae4b68ed",
   "metadata": {},
   "outputs": [],
   "source": [
    "col = df[2]\n",
    "col"
   ]
  },
  {
   "cell_type": "code",
   "execution_count": null,
   "id": "df9cf852",
   "metadata": {},
   "outputs": [],
   "source": [
    "col[np.abs(col)>3]"
   ]
  },
  {
   "cell_type": "code",
   "execution_count": null,
   "id": "640efbed",
   "metadata": {},
   "outputs": [],
   "source": [
    "df[(np.abs(df)>3).any(1)]"
   ]
  },
  {
   "cell_type": "code",
   "execution_count": null,
   "id": "ba6326e6",
   "metadata": {},
   "outputs": [],
   "source": [
    "df[np.abs(df)>3] = np.sign(df)*3\n",
    "df.describe()"
   ]
  },
  {
   "cell_type": "code",
   "execution_count": null,
   "id": "d5d57c0f",
   "metadata": {},
   "outputs": [],
   "source": []
  }
 ],
 "metadata": {
  "kernelspec": {
   "display_name": "Python 3 (ipykernel)",
   "language": "python",
   "name": "python3"
  },
  "language_info": {
   "codemirror_mode": {
    "name": "ipython",
    "version": 3
   },
   "file_extension": ".py",
   "mimetype": "text/x-python",
   "name": "python",
   "nbconvert_exporter": "python",
   "pygments_lexer": "ipython3",
   "version": "3.8.8"
  }
 },
 "nbformat": 4,
 "nbformat_minor": 5
}
